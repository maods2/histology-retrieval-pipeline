{
 "cells": [
  {
   "cell_type": "code",
   "execution_count": 1,
   "metadata": {},
   "outputs": [],
   "source": [
    "import pandas as pd\n",
    "import pickle\n"
   ]
  },
  {
   "cell_type": "code",
   "execution_count": 3,
   "metadata": {},
   "outputs": [
    {
     "data": {
      "text/plain": [
       "{'model': 'semantic_att',\n",
       " 'embedding': array([[6.51521921e-01, 6.82474375e-02, 3.77060801e-01, 5.27929573e-04,\n",
       "         5.38213924e-03, 8.18594799e-06, 1.55203264e-08, 0.00000000e+00],\n",
       "        [8.05157959e-01, 9.57007825e-01, 4.28121886e-04, 1.25325541e-05,\n",
       "         1.03879480e-04, 2.52942118e-04, 1.12671242e-03, 0.00000000e+00],\n",
       "        [9.35630858e-01, 4.77324396e-01, 2.16306333e-04, 1.01486898e-04,\n",
       "         1.23577402e-03, 7.85176671e-05, 2.33524422e-10, 0.00000000e+00],\n",
       "        [1.36819361e-02, 8.91915411e-02, 5.01202233e-03, 1.73039675e-01,\n",
       "         8.58743733e-05, 3.19366110e-04, 1.87633248e-06, 0.00000000e+00],\n",
       "        [9.45141256e-01, 4.80017334e-01, 4.30079614e-04, 1.41793600e-04,\n",
       "         7.93691259e-03, 9.71122499e-05, 4.81519784e-08, 0.00000000e+00],\n",
       "        [2.47315615e-02, 9.44858849e-01, 4.93688183e-03, 1.60211709e-03,\n",
       "         8.06498429e-05, 2.58506014e-04, 1.39534944e-08, 0.00000000e+00],\n",
       "        [8.87261331e-03, 2.95527484e-02, 5.64430840e-03, 7.11317174e-04,\n",
       "         4.69200982e-04, 1.12748824e-01, 3.99220153e-06, 0.00000000e+00],\n",
       "        [8.78697634e-02, 2.09915042e-02, 3.48336101e-01, 2.96045146e-05,\n",
       "         2.84057078e-05, 8.32825676e-02, 5.21407983e-09, 0.00000000e+00],\n",
       "        [3.62875429e-03, 4.94866435e-05, 4.37511131e-03, 1.04086380e-03,\n",
       "         3.01397443e-01, 1.46548837e-01, 1.04646506e-02, 0.00000000e+00]]),\n",
       " 'target': [0, 0, 0, 1, 1, 1, 2, 2, 2],\n",
       " 'paths': ['BRACS_265_N_1.png',\n",
       "  'BRACS_265_N_2.png',\n",
       "  'BRACS_265_N_3.png',\n",
       "  'BRACS_265_PB_10.png',\n",
       "  'BRACS_265_PB_12.png',\n",
       "  'BRACS_265_PB_7.png',\n",
       "  '2021PC0434 (17).JPG',\n",
       "  '2021PC0434 (31).JPG',\n",
       "  '2022PC0486 (26).jpg'],\n",
       " 'classes': ['0_N',\n",
       "  '0_N',\n",
       "  '0_N',\n",
       "  '1_PB',\n",
       "  '1_PB',\n",
       "  '1_PB',\n",
       "  'sclerosis',\n",
       "  'sclerosis',\n",
       "  'sclerosis']}"
      ]
     },
     "execution_count": 3,
     "metadata": {},
     "output_type": "execute_result"
    }
   ],
   "source": [
    "with open('./semantic_efficient_test/efficientnet_train.pickle', 'rb') as f:\n",
    "    data = pickle.load(f)\n",
    "\n",
    "data"
   ]
  },
  {
   "cell_type": "code",
   "execution_count": null,
   "metadata": {},
   "outputs": [],
   "source": [
    "data"
   ]
  },
  {
   "cell_type": "code",
   "execution_count": 4,
   "metadata": {},
   "outputs": [
    {
     "data": {
      "text/plain": [
       "array([3.62875429e-03, 4.94866435e-05, 4.37511131e-03, 1.04086380e-03,\n",
       "       3.01397443e-01, 1.46548837e-01, 1.04646506e-02, 0.00000000e+00])"
      ]
     },
     "execution_count": 4,
     "metadata": {},
     "output_type": "execute_result"
    }
   ],
   "source": [
    "data['embedding'][-1]"
   ]
  },
  {
   "cell_type": "code",
   "execution_count": null,
   "metadata": {},
   "outputs": [],
   "source": []
  },
  {
   "cell_type": "code",
   "execution_count": null,
   "metadata": {},
   "outputs": [],
   "source": []
  }
 ],
 "metadata": {
  "kernelspec": {
   "display_name": "venv",
   "language": "python",
   "name": "python3"
  },
  "language_info": {
   "codemirror_mode": {
    "name": "ipython",
    "version": 3
   },
   "file_extension": ".py",
   "mimetype": "text/x-python",
   "name": "python",
   "nbconvert_exporter": "python",
   "pygments_lexer": "ipython3",
   "version": "3.10.12"
  }
 },
 "nbformat": 4,
 "nbformat_minor": 2
}
